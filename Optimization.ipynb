{
 "cells": [
  {
   "cell_type": "code",
   "execution_count": 18,
   "metadata": {},
   "outputs": [],
   "source": [
    "#import necessary libraries\n",
    "import numpy as np\n",
    "import pandas as pd\n",
    "import matplotlib.pyplot as plt\n",
    "import statsmodels.api as sm\n",
    "import statsmodels.formula.api as smf\n",
    "from statsmodels.graphics.tsaplots import plot_acf\n",
    "import os"
   ]
  },
  {
   "cell_type": "code",
   "execution_count": 20,
   "metadata": {},
   "outputs": [],
   "source": [
    "def generate_data(T, alpha, beta, sigma, alpha_y, beta_y, gamma, theta, sigma_y, mu):\n",
    "    df = pd.DataFrame(index=range(T), columns=['x', 'y', 'epsilon_x', 'epsilon_y'])\n",
    "    x1 = alpha/(1-beta) # define initial value for time series x\n",
    "    y1 = 0\n",
    "    epsilon_x = sigma*np.random.randn(T) + mu # generate a vector of T random normal\n",
    "    epsilon_y = sigma_y*np.random.randn(T) # generate a vector of T random normal\n",
    "    \n",
    "    df.iloc[0,:] = [x1, y1, np.nan, np.nan] # initialize x and y\n",
    "    \n",
    "    x = np.zeros(T)\n",
    "    y = np.zeros(T)\n",
    "    x[0] = x1\n",
    "    y[0] = y1\n",
    "    \n",
    "    for i in range(0, T-1):\n",
    "        x[i+1] = alpha + beta * x[i] + epsilon_x[i+1] # generate X(t) recursively\n",
    "            # Xt = α + βXt-1 + εt\n",
    "        y[i+1] = alpha_y + beta_y * y[i] + gamma * x[i+1] + epsilon_y[i+1] + theta * epsilon_y[i] # generate Y(t) recursively\n",
    "            # Yt = α + βYt-1 + γXt + εt + θεt-1\n",
    "        df.iloc[i+1,0] = x[i+1]\n",
    "        df.iloc[i+1,1] = y[i+1]\n",
    "        df.iloc[i+1,2] = epsilon_x[i+1] # associate error with X(t)\n",
    "        df.iloc[i+1,3] = epsilon_y[i+1] # associate error with Y(t)\n",
    "    \n",
    "    return df, x, y, epsilon_x, epsilon_y"
   ]
  },
  {
   "cell_type": "code",
   "execution_count": 21,
   "metadata": {},
   "outputs": [],
   "source": [
    "df, x, y, epsilon_x, epsilon_y = generate_data(1000, 1, 0.9, 0.1, 1, 0.9, 0.9, 0.5, 0.1, 0)\n",
    "new_df = df.drop(0)"
   ]
  },
  {
   "cell_type": "code",
   "execution_count": 34,
   "metadata": {},
   "outputs": [],
   "source": [
    "import numpy as np\n",
    "from scipy.stats import norm\n",
    "\n",
    "def quantile_regression_gls(y, X, tau):\n",
    "    n, p = X.shape\n",
    "    nq = len(tau)\n",
    "    residuals = np.zeros((n, nq))\n",
    "    beta = np.zeros((nq, p+1))\n",
    "    weights = np.zeros((n, nq))\n",
    "    Xw = np.zeros((n, nq*p+p+1))\n",
    "\n",
    "    for i in range(nq):\n",
    "        q = tau[i]\n",
    "        for j in range(n):\n",
    "            residuals[j, i] = y[j] - np.dot(X[j,:], beta[i,:])\n",
    "            weights[j,i] = norm.pdf(residuals[j,i]/weights[j,i])\n",
    "        Xw[:, i*p+1:(i+1)*p+1] = np.multiply(X, np.tile(weights[:,i],(p,1)).T)\n",
    "        Xw[:, i*p+1] = np.tile(weights[:,i],(1,1)).T\n",
    "        Xw[:, -p-1] = 1\n",
    "        beta[i,:] = np.linalg.inv(Xw.T @ Xw) @ Xw.T @ np.multiply(y, np.tile(weights[:,i],(1,1)).T)\n",
    "\n",
    "    return beta\n",
    "\n"
   ]
  },
  {
   "cell_type": "code",
   "execution_count": 35,
   "metadata": {},
   "outputs": [
    {
     "ename": "ValueError",
     "evalue": "shapes (4,) and (5,) not aligned: 4 (dim 0) != 5 (dim 0)",
     "output_type": "error",
     "traceback": [
      "\u001b[0;31m---------------------------------------------------------------------------\u001b[0m",
      "\u001b[0;31mValueError\u001b[0m                                Traceback (most recent call last)",
      "\u001b[1;32mUntitled-1.ipynb Cell 5\u001b[0m in \u001b[0;36m<cell line: 7>\u001b[0;34m()\u001b[0m\n\u001b[1;32m      <a href='vscode-notebook-cell:Untitled-1.ipynb?jupyter-notebook#X10sdW50aXRsZWQ%3D?line=4'>5</a>\u001b[0m X \u001b[39m=\u001b[39m np\u001b[39m.\u001b[39mcolumn_stack((np\u001b[39m.\u001b[39mones_like(x), y_lag, x, epsilon_lag))\n\u001b[1;32m      <a href='vscode-notebook-cell:Untitled-1.ipynb?jupyter-notebook#X10sdW50aXRsZWQ%3D?line=5'>6</a>\u001b[0m tau \u001b[39m=\u001b[39m [\u001b[39m0.1\u001b[39m, \u001b[39m0.5\u001b[39m, \u001b[39m0.9\u001b[39m]\n\u001b[0;32m----> <a href='vscode-notebook-cell:Untitled-1.ipynb?jupyter-notebook#X10sdW50aXRsZWQ%3D?line=6'>7</a>\u001b[0m quantile_regression_gls(y, X, tau)\n",
      "\u001b[1;32mUntitled-1.ipynb Cell 5\u001b[0m in \u001b[0;36mquantile_regression_gls\u001b[0;34m(y, X, tau)\u001b[0m\n\u001b[1;32m     <a href='vscode-notebook-cell:Untitled-1.ipynb?jupyter-notebook#X10sdW50aXRsZWQ%3D?line=12'>13</a>\u001b[0m q \u001b[39m=\u001b[39m tau[i]\n\u001b[1;32m     <a href='vscode-notebook-cell:Untitled-1.ipynb?jupyter-notebook#X10sdW50aXRsZWQ%3D?line=13'>14</a>\u001b[0m \u001b[39mfor\u001b[39;00m j \u001b[39min\u001b[39;00m \u001b[39mrange\u001b[39m(n):\n\u001b[0;32m---> <a href='vscode-notebook-cell:Untitled-1.ipynb?jupyter-notebook#X10sdW50aXRsZWQ%3D?line=14'>15</a>\u001b[0m     residuals[j, i] \u001b[39m=\u001b[39m y[j] \u001b[39m-\u001b[39m np\u001b[39m.\u001b[39;49mdot(X[j,:], beta[i,:])\n\u001b[1;32m     <a href='vscode-notebook-cell:Untitled-1.ipynb?jupyter-notebook#X10sdW50aXRsZWQ%3D?line=15'>16</a>\u001b[0m     weights[j,i] \u001b[39m=\u001b[39m norm\u001b[39m.\u001b[39mpdf(residuals[j,i]\u001b[39m/\u001b[39mweights[j,i])\n\u001b[1;32m     <a href='vscode-notebook-cell:Untitled-1.ipynb?jupyter-notebook#X10sdW50aXRsZWQ%3D?line=16'>17</a>\u001b[0m Xw[:, i\u001b[39m*\u001b[39mp\u001b[39m+\u001b[39m\u001b[39m1\u001b[39m:(i\u001b[39m+\u001b[39m\u001b[39m1\u001b[39m)\u001b[39m*\u001b[39mp\u001b[39m+\u001b[39m\u001b[39m1\u001b[39m] \u001b[39m=\u001b[39m np\u001b[39m.\u001b[39mmultiply(X, np\u001b[39m.\u001b[39mtile(weights[:,i],(p,\u001b[39m1\u001b[39m))\u001b[39m.\u001b[39mT)\n",
      "File \u001b[0;32m<__array_function__ internals>:180\u001b[0m, in \u001b[0;36mdot\u001b[0;34m(*args, **kwargs)\u001b[0m\n",
      "\u001b[0;31mValueError\u001b[0m: shapes (4,) and (5,) not aligned: 4 (dim 0) != 5 (dim 0)"
     ]
    }
   ],
   "source": [
    "y_lag = np.roll(y, 1)\n",
    "y_lag[0] = 0\n",
    "epsilon_lag = np.roll(epsilon_y, 1)\n",
    "epsilon_lag[0] = 0\n",
    "X = np.column_stack((np.ones_like(x), y_lag, x, epsilon_lag))\n",
    "tau = [0.1, 0.5, 0.9]\n",
    "quantile_regression_gls(y, X, tau)"
   ]
  }
 ],
 "metadata": {
  "kernelspec": {
   "display_name": "Python 3",
   "language": "python",
   "name": "python3"
  },
  "language_info": {
   "codemirror_mode": {
    "name": "ipython",
    "version": 3
   },
   "file_extension": ".py",
   "mimetype": "text/x-python",
   "name": "python",
   "nbconvert_exporter": "python",
   "pygments_lexer": "ipython3",
   "version": "3.10.4"
  },
  "orig_nbformat": 4
 },
 "nbformat": 4,
 "nbformat_minor": 2
}
