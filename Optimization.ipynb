{
 "cells": [
  {
   "cell_type": "code",
   "execution_count": 15,
   "metadata": {},
   "outputs": [],
   "source": [
    "#import necessary libraries\n",
    "import numpy as np\n",
    "import pandas as pd\n",
    "import matplotlib.pyplot as plt\n",
    "import statsmodels.api as sm\n",
    "import statsmodels.formula.api as smf\n",
    "from statsmodels.graphics.tsaplots import plot_acf\n",
    "import os"
   ]
  },
  {
   "cell_type": "code",
   "execution_count": 16,
   "metadata": {},
   "outputs": [],
   "source": [
    "def generate_data(T, alpha, beta, sigma, alpha_y, beta_y, gamma, theta, sigma_y, mu):\n",
    "    df = pd.DataFrame(index=range(T), columns=['x', 'y', 'epsilon_x', 'epsilon_y'])\n",
    "    x1 = alpha/(1-beta) # define initial value for time series x\n",
    "    y1 = 0\n",
    "    epsilon_x = sigma*np.random.randn(T) + mu # generate a vector of T random normal\n",
    "    epsilon_y = sigma_y*np.random.randn(T) # generate a vector of T random normal\n",
    "    \n",
    "    df.iloc[0,:] = [x1, y1, np.nan, np.nan] # initialize x and y\n",
    "    \n",
    "    x = np.zeros(T)\n",
    "    y = np.zeros(T)\n",
    "    x[0] = x1\n",
    "    y[0] = y1\n",
    "    \n",
    "    for i in range(0, T-1):\n",
    "        x[i+1] = alpha + beta * x[i] + epsilon_x[i+1] # generate X(t) recursively\n",
    "            # Xt = α + βXt-1 + εt\n",
    "        y[i+1] = alpha_y + beta_y * y[i] + gamma * x[i+1] + epsilon_y[i+1] + theta * epsilon_y[i] # generate Y(t) recursively\n",
    "            # Yt = α + βYt-1 + γXt + εt + θεt-1\n",
    "        df.iloc[i+1,0] = x[i+1]\n",
    "        df.iloc[i+1,1] = y[i+1]\n",
    "        df.iloc[i+1,2] = epsilon_x[i+1] # associate error with X(t)\n",
    "        df.iloc[i+1,3] = epsilon_y[i+1] # associate error with Y(t)\n",
    "    \n",
    "    return df, x, y, epsilon_x, epsilon_y"
   ]
  },
  {
   "cell_type": "code",
   "execution_count": 17,
   "metadata": {},
   "outputs": [],
   "source": [
    "df, x, y, epsilon_x, epsilon_y = generate_data(1000, 1, 0.9, 0.1, 1, 0.9, 0.9, 0.5, 0.1, 0)\n",
    "new_df = df.drop(0)"
   ]
  },
  {
   "cell_type": "code",
   "execution_count": 37,
   "metadata": {},
   "outputs": [],
   "source": [
    "import numpy as np\n",
    "from scipy.stats import norm\n",
    "\n",
    "def quantile_regression_gls(y, X, tau):\n",
    "    n, p = X.shape\n",
    "    nq = len(tau)\n",
    "    residuals = np.zeros((n, nq))\n",
    "    beta = np.zeros((nq, p))\n",
    "    weights = np.zeros((n, n))\n",
    "    Xw = np.zeros((n, nq*p+1))\n",
    "\n",
    "    for i in range(nq):\n",
    "        q = tau[i]\n",
    "        for j in range(n):\n",
    "            residuals[j, i] = y[j] - np.dot(X[j,:], beta[i,:])\n",
    "            weights[j,j] = norm.pdf(residuals[j,i]/weights[j,j])\n",
    "        Xw[:, i*p+1:(i+1)*p+1] = np.multiply(X, np.tile(weights[:,i],(p,1)).T)\n",
    "        #Xw[:, i*p] = np.tile(weights[:,i],(1,1)).T\n",
    "        Xw[:, i*p+1:(i+1)*p+1] = np.multiply(X, np.tile(weights[:,i, np.newaxis],(1,p)))\n",
    "\n",
    "        #debugging\n",
    "        rank = np.linalg.matrix_rank(Xw.T @ Xw)\n",
    "        #beta[i,:] = np.linalg.inv(Xw.T @ Xw) @ Xw.T @ np.multiply(y, np.tile(weights[:,i],(1,1)).T)\n",
    "\n",
    "    #return beta\n",
    "    return rank\n"
   ]
  },
  {
   "cell_type": "code",
   "execution_count": 33,
   "metadata": {},
   "outputs": [
    {
     "name": "stdout",
     "output_type": "stream",
     "text": [
      "(1000, 4)\n",
      "(3, 3)\n",
      "(1000,)\n"
     ]
    }
   ],
   "source": [
    "print(X.shape)\n",
    "print(beta.shape)\n",
    "print(y.shape)"
   ]
  },
  {
   "cell_type": "code",
   "execution_count": 38,
   "metadata": {},
   "outputs": [
    {
     "name": "stderr",
     "output_type": "stream",
     "text": [
      "/var/folders/f2/mjfy7nsn0tqbsmsk74mmlybh0000gn/T/ipykernel_24253/3250660834.py:16: RuntimeWarning: invalid value encountered in double_scalars\n",
      "  weights[j,j] = norm.pdf(residuals[j,i]/weights[j,j])\n",
      "/var/folders/f2/mjfy7nsn0tqbsmsk74mmlybh0000gn/T/ipykernel_24253/3250660834.py:16: RuntimeWarning: divide by zero encountered in double_scalars\n",
      "  weights[j,j] = norm.pdf(residuals[j,i]/weights[j,j])\n"
     ]
    },
    {
     "ename": "LinAlgError",
     "evalue": "SVD did not converge",
     "output_type": "error",
     "traceback": [
      "\u001b[0;31m---------------------------------------------------------------------------\u001b[0m",
      "\u001b[0;31mLinAlgError\u001b[0m                               Traceback (most recent call last)",
      "\u001b[1;32m/Users/tatiana/Documents/GitHub/GLS-Quantile-Regression/Optimization.ipynb Cell 6\u001b[0m in \u001b[0;36m<cell line: 7>\u001b[0;34m()\u001b[0m\n\u001b[1;32m      <a href='vscode-notebook-cell:/Users/tatiana/Documents/GitHub/GLS-Quantile-Regression/Optimization.ipynb#W5sZmlsZQ%3D%3D?line=4'>5</a>\u001b[0m X \u001b[39m=\u001b[39m np\u001b[39m.\u001b[39mcolumn_stack((np\u001b[39m.\u001b[39mones_like(x), y_lag, x, epsilon_lag)) \u001b[39m#question\u001b[39;00m\n\u001b[1;32m      <a href='vscode-notebook-cell:/Users/tatiana/Documents/GitHub/GLS-Quantile-Regression/Optimization.ipynb#W5sZmlsZQ%3D%3D?line=5'>6</a>\u001b[0m tau \u001b[39m=\u001b[39m [\u001b[39m0.1\u001b[39m, \u001b[39m0.5\u001b[39m, \u001b[39m0.9\u001b[39m]\n\u001b[0;32m----> <a href='vscode-notebook-cell:/Users/tatiana/Documents/GitHub/GLS-Quantile-Regression/Optimization.ipynb#W5sZmlsZQ%3D%3D?line=6'>7</a>\u001b[0m quantile_regression_gls(y, X, tau)\n",
      "\u001b[1;32m/Users/tatiana/Documents/GitHub/GLS-Quantile-Regression/Optimization.ipynb Cell 6\u001b[0m in \u001b[0;36mquantile_regression_gls\u001b[0;34m(y, X, tau)\u001b[0m\n\u001b[1;32m     <a href='vscode-notebook-cell:/Users/tatiana/Documents/GitHub/GLS-Quantile-Regression/Optimization.ipynb#W5sZmlsZQ%3D%3D?line=18'>19</a>\u001b[0m     Xw[:, i\u001b[39m*\u001b[39mp\u001b[39m+\u001b[39m\u001b[39m1\u001b[39m:(i\u001b[39m+\u001b[39m\u001b[39m1\u001b[39m)\u001b[39m*\u001b[39mp\u001b[39m+\u001b[39m\u001b[39m1\u001b[39m] \u001b[39m=\u001b[39m np\u001b[39m.\u001b[39mmultiply(X, np\u001b[39m.\u001b[39mtile(weights[:,i, np\u001b[39m.\u001b[39mnewaxis],(\u001b[39m1\u001b[39m,p)))\n\u001b[1;32m     <a href='vscode-notebook-cell:/Users/tatiana/Documents/GitHub/GLS-Quantile-Regression/Optimization.ipynb#W5sZmlsZQ%3D%3D?line=20'>21</a>\u001b[0m     \u001b[39m#debugging\u001b[39;00m\n\u001b[0;32m---> <a href='vscode-notebook-cell:/Users/tatiana/Documents/GitHub/GLS-Quantile-Regression/Optimization.ipynb#W5sZmlsZQ%3D%3D?line=21'>22</a>\u001b[0m     rank \u001b[39m=\u001b[39m np\u001b[39m.\u001b[39;49mlinalg\u001b[39m.\u001b[39;49mmatrix_rank(Xw\u001b[39m.\u001b[39;49mT \u001b[39m@\u001b[39;49m Xw)\n\u001b[1;32m     <a href='vscode-notebook-cell:/Users/tatiana/Documents/GitHub/GLS-Quantile-Regression/Optimization.ipynb#W5sZmlsZQ%3D%3D?line=22'>23</a>\u001b[0m     \u001b[39m#beta[i,:] = np.linalg.inv(Xw.T @ Xw) @ Xw.T @ np.multiply(y, np.tile(weights[:,i],(1,1)).T)\u001b[39;00m\n\u001b[1;32m     <a href='vscode-notebook-cell:/Users/tatiana/Documents/GitHub/GLS-Quantile-Regression/Optimization.ipynb#W5sZmlsZQ%3D%3D?line=23'>24</a>\u001b[0m \n\u001b[1;32m     <a href='vscode-notebook-cell:/Users/tatiana/Documents/GitHub/GLS-Quantile-Regression/Optimization.ipynb#W5sZmlsZQ%3D%3D?line=24'>25</a>\u001b[0m \u001b[39m#return beta\u001b[39;00m\n\u001b[1;32m     <a href='vscode-notebook-cell:/Users/tatiana/Documents/GitHub/GLS-Quantile-Regression/Optimization.ipynb#W5sZmlsZQ%3D%3D?line=25'>26</a>\u001b[0m \u001b[39mreturn\u001b[39;00m rank\n",
      "File \u001b[0;32m<__array_function__ internals>:180\u001b[0m, in \u001b[0;36mmatrix_rank\u001b[0;34m(*args, **kwargs)\u001b[0m\n",
      "File \u001b[0;32m/Library/Frameworks/Python.framework/Versions/3.10/lib/python3.10/site-packages/numpy/linalg/linalg.py:1898\u001b[0m, in \u001b[0;36mmatrix_rank\u001b[0;34m(A, tol, hermitian)\u001b[0m\n\u001b[1;32m   1896\u001b[0m \u001b[39mif\u001b[39;00m A\u001b[39m.\u001b[39mndim \u001b[39m<\u001b[39m \u001b[39m2\u001b[39m:\n\u001b[1;32m   1897\u001b[0m     \u001b[39mreturn\u001b[39;00m \u001b[39mint\u001b[39m(\u001b[39mnot\u001b[39;00m \u001b[39mall\u001b[39m(A\u001b[39m==\u001b[39m\u001b[39m0\u001b[39m))\n\u001b[0;32m-> 1898\u001b[0m S \u001b[39m=\u001b[39m svd(A, compute_uv\u001b[39m=\u001b[39;49m\u001b[39mFalse\u001b[39;49;00m, hermitian\u001b[39m=\u001b[39;49mhermitian)\n\u001b[1;32m   1899\u001b[0m \u001b[39mif\u001b[39;00m tol \u001b[39mis\u001b[39;00m \u001b[39mNone\u001b[39;00m:\n\u001b[1;32m   1900\u001b[0m     tol \u001b[39m=\u001b[39m S\u001b[39m.\u001b[39mmax(axis\u001b[39m=\u001b[39m\u001b[39m-\u001b[39m\u001b[39m1\u001b[39m, keepdims\u001b[39m=\u001b[39m\u001b[39mTrue\u001b[39;00m) \u001b[39m*\u001b[39m \u001b[39mmax\u001b[39m(A\u001b[39m.\u001b[39mshape[\u001b[39m-\u001b[39m\u001b[39m2\u001b[39m:]) \u001b[39m*\u001b[39m finfo(S\u001b[39m.\u001b[39mdtype)\u001b[39m.\u001b[39meps\n",
      "File \u001b[0;32m<__array_function__ internals>:180\u001b[0m, in \u001b[0;36msvd\u001b[0;34m(*args, **kwargs)\u001b[0m\n",
      "File \u001b[0;32m/Library/Frameworks/Python.framework/Versions/3.10/lib/python3.10/site-packages/numpy/linalg/linalg.py:1669\u001b[0m, in \u001b[0;36msvd\u001b[0;34m(a, full_matrices, compute_uv, hermitian)\u001b[0m\n\u001b[1;32m   1666\u001b[0m     gufunc \u001b[39m=\u001b[39m _umath_linalg\u001b[39m.\u001b[39msvd_n\n\u001b[1;32m   1668\u001b[0m signature \u001b[39m=\u001b[39m \u001b[39m'\u001b[39m\u001b[39mD->d\u001b[39m\u001b[39m'\u001b[39m \u001b[39mif\u001b[39;00m isComplexType(t) \u001b[39melse\u001b[39;00m \u001b[39m'\u001b[39m\u001b[39md->d\u001b[39m\u001b[39m'\u001b[39m\n\u001b[0;32m-> 1669\u001b[0m s \u001b[39m=\u001b[39m gufunc(a, signature\u001b[39m=\u001b[39;49msignature, extobj\u001b[39m=\u001b[39;49mextobj)\n\u001b[1;32m   1670\u001b[0m s \u001b[39m=\u001b[39m s\u001b[39m.\u001b[39mastype(_realType(result_t), copy\u001b[39m=\u001b[39m\u001b[39mFalse\u001b[39;00m)\n\u001b[1;32m   1671\u001b[0m \u001b[39mreturn\u001b[39;00m s\n",
      "File \u001b[0;32m/Library/Frameworks/Python.framework/Versions/3.10/lib/python3.10/site-packages/numpy/linalg/linalg.py:98\u001b[0m, in \u001b[0;36m_raise_linalgerror_svd_nonconvergence\u001b[0;34m(err, flag)\u001b[0m\n\u001b[1;32m     97\u001b[0m \u001b[39mdef\u001b[39;00m \u001b[39m_raise_linalgerror_svd_nonconvergence\u001b[39m(err, flag):\n\u001b[0;32m---> 98\u001b[0m     \u001b[39mraise\u001b[39;00m LinAlgError(\u001b[39m\"\u001b[39m\u001b[39mSVD did not converge\u001b[39m\u001b[39m\"\u001b[39m)\n",
      "\u001b[0;31mLinAlgError\u001b[0m: SVD did not converge"
     ]
    }
   ],
   "source": [
    "y_lag = np.roll(y, 1)\n",
    "y_lag[0] = 0\n",
    "epsilon_lag = np.roll(epsilon_y, 1)\n",
    "epsilon_lag[0] = 0\n",
    "X = np.column_stack((np.ones_like(x), y_lag, x, epsilon_lag)) #question\n",
    "tau = [0.1, 0.5, 0.9]\n",
    "quantile_regression_gls(y, X, tau)"
   ]
  },
  {
   "cell_type": "code",
   "execution_count": 36,
   "metadata": {},
   "outputs": [
    {
     "ename": "NameError",
     "evalue": "name 'Xw' is not defined",
     "output_type": "error",
     "traceback": [
      "\u001b[0;31m---------------------------------------------------------------------------\u001b[0m",
      "\u001b[0;31mNameError\u001b[0m                                 Traceback (most recent call last)",
      "\u001b[1;32m/Users/tatiana/Documents/GitHub/GLS-Quantile-Regression/Optimization.ipynb Cell 7\u001b[0m in \u001b[0;36m<cell line: 1>\u001b[0;34m()\u001b[0m\n\u001b[0;32m----> <a href='vscode-notebook-cell:/Users/tatiana/Documents/GitHub/GLS-Quantile-Regression/Optimization.ipynb#X14sZmlsZQ%3D%3D?line=0'>1</a>\u001b[0m rank \u001b[39m=\u001b[39m np\u001b[39m.\u001b[39mlinalg\u001b[39m.\u001b[39mmatrix_rank(Xw\u001b[39m.\u001b[39mT \u001b[39m@\u001b[39m Xw)\n",
      "\u001b[0;31mNameError\u001b[0m: name 'Xw' is not defined"
     ]
    }
   ],
   "source": [
    "rank = np.linalg.matrix_rank(Xw.T @ Xw)\n"
   ]
  }
 ],
 "metadata": {
  "kernelspec": {
   "display_name": "Python 3",
   "language": "python",
   "name": "python3"
  },
  "language_info": {
   "codemirror_mode": {
    "name": "ipython",
    "version": 3
   },
   "file_extension": ".py",
   "mimetype": "text/x-python",
   "name": "python",
   "nbconvert_exporter": "python",
   "pygments_lexer": "ipython3",
   "version": "3.10.4"
  },
  "orig_nbformat": 4
 },
 "nbformat": 4,
 "nbformat_minor": 2
}
