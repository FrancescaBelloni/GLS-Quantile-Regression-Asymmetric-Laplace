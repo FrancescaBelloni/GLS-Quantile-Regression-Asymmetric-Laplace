{
 "cells": [
  {
   "cell_type": "code",
   "execution_count": 2,
   "metadata": {},
   "outputs": [],
   "source": [
    "#import necessary libraries\n",
    "import numpy as np\n",
    "import pandas as pd\n",
    "import matplotlib.pyplot as plt\n",
    "import statsmodels.api as sm\n",
    "import statsmodels.formula.api as smf\n",
    "from statsmodels.graphics.tsaplots import plot_acf\n",
    "import os\n",
    "import scipy.optimize as optimize\n",
    "import scipy.stats as stats\n",
    "from scipy.stats import laplace_asymmetric"
   ]
  },
  {
   "cell_type": "code",
   "execution_count": 3,
   "metadata": {},
   "outputs": [],
   "source": [
    "''' Data Generation '''\n",
    "################################'Generate X and Y'##############################\n",
    "################################ Xt ~ N(0,1)\n",
    "################################ Yt = α + βYt-1 + γXt + εt + θεt-1\n",
    "def generate_data(T, alpha_y, beta_y, gamma, theta, sigma_y, mu, seed=None):\n",
    "    np.random.seed(seed)\n",
    "    df = pd.DataFrame(index=range(T), columns=['x', 'y', 'epsilon_y'])\n",
    "    x = np.random.normal(0, 1, T)\n",
    "    y1 = np.random.normal(mu, sigma_y)\n",
    "    epsilon_y = sigma_y*np.random.randn(T)\n",
    "    df.iloc[0,:] = [x[0], y1, epsilon_y[0]]\n",
    "    \n",
    "    for i in range(0, T-1):\n",
    "        df.iloc[i+1,0] = x[i+1] \n",
    "        # Xt ~ N(0,1)\n",
    "        df.iloc[i+1,1] = alpha_y + beta_y * df.iloc[i,1] + gamma * df.iloc[i+1,0] + epsilon_y[i+1] + theta * epsilon_y[i] # generate Y(t) recursively\n",
    "        # Yt = α + βYt-1 + γXt + εt + θεt-1\n",
    "        df.iloc[i+1,2] = epsilon_y[i+1]\n",
    "    \n",
    "    return df"
   ]
  },
  {
   "cell_type": "code",
   "execution_count": 4,
   "metadata": {},
   "outputs": [
    {
     "name": "stdout",
     "output_type": "stream",
     "text": [
      "            x         y epsilon_y\n",
      "0    0.496714  1.399355  0.924634\n",
      "1   -0.138264  1.749999   0.05963\n",
      "2    0.647689  0.676037 -0.646937\n",
      "3     1.52303  1.110908  0.698223\n",
      "4   -0.234153  1.707094  0.393485\n",
      "..        ...       ...       ...\n",
      "995   -0.2811  2.353144 -0.026521\n",
      "996  1.797687  1.010134 -0.881875\n",
      "997  0.640843 -0.059434 -0.163067\n",
      "998 -0.571179 -0.892734 -0.744903\n",
      "999  0.572583 -1.420183 -0.675178\n",
      "\n",
      "[1000 rows x 3 columns]\n"
     ]
    }
   ],
   "source": [
    "df = generate_data(1000, 0.2, 0.5, 0.3, 0.9, 1, 0, seed=42)\n",
    "print(df)"
   ]
  },
  {
   "cell_type": "code",
   "execution_count": 8,
   "metadata": {},
   "outputs": [
    {
     "name": "stdout",
     "output_type": "stream",
     "text": [
      "(1000, 1)\n"
     ]
    },
    {
     "ename": "ValueError",
     "evalue": "matmul: Input operand 1 has a mismatch in its core dimension 0, with gufunc signature (n?,k),(k,m?)->(n?,m?) (size 1000 is different from 1)",
     "output_type": "error",
     "traceback": [
      "\u001b[0;31m---------------------------------------------------------------------------\u001b[0m",
      "\u001b[0;31mValueError\u001b[0m                                Traceback (most recent call last)",
      "\u001b[1;32m/Users/tatiana/Documents/GitHub/GLS-Quantile-Regression/EMalgo.ipynb Cell 4\u001b[0m in \u001b[0;36m<cell line: 46>\u001b[0;34m()\u001b[0m\n\u001b[1;32m     <a href='vscode-notebook-cell:/Users/tatiana/Documents/GitHub/GLS-Quantile-Regression/EMalgo.ipynb#W4sZmlsZQ%3D%3D?line=68'>69</a>\u001b[0m r_matr \u001b[39m=\u001b[39m np\u001b[39m.\u001b[39mzeros((\u001b[39m3\u001b[39m, \u001b[39m1\u001b[39m))\n\u001b[1;32m     <a href='vscode-notebook-cell:/Users/tatiana/Documents/GitHub/GLS-Quantile-Regression/EMalgo.ipynb#W4sZmlsZQ%3D%3D?line=69'>70</a>\u001b[0m r_matr[\u001b[39m0\u001b[39m, \u001b[39m0\u001b[39m] \u001b[39m=\u001b[39m r\n\u001b[0;32m---> <a href='vscode-notebook-cell:/Users/tatiana/Documents/GitHub/GLS-Quantile-Regression/EMalgo.ipynb#W4sZmlsZQ%3D%3D?line=71'>72</a>\u001b[0m m[i\u001b[39m+\u001b[39m\u001b[39m1\u001b[39m] \u001b[39m=\u001b[39m Σ \u001b[39m@\u001b[39m (X\u001b[39m.\u001b[39mT \u001b[39m@\u001b[39m U \u001b[39m@\u001b[39m y\u001b[39m.\u001b[39mreshape((\u001b[39m-\u001b[39m\u001b[39m1\u001b[39m, \u001b[39m1\u001b[39m)))\u001b[39m.\u001b[39mflatten() \u001b[39m-\u001b[39m (X\u001b[39m.\u001b[39mT \u001b[39m@\u001b[39m U \u001b[39m@\u001b[39m (r_matr \u001b[39m@\u001b[39;49m l))\n\u001b[1;32m     <a href='vscode-notebook-cell:/Users/tatiana/Documents/GitHub/GLS-Quantile-Regression/EMalgo.ipynb#W4sZmlsZQ%3D%3D?line=72'>73</a>\u001b[0m β[i\u001b[39m+\u001b[39m\u001b[39m1\u001b[39m] \u001b[39m=\u001b[39m m[i\u001b[39m+\u001b[39m\u001b[39m1\u001b[39m, \u001b[39m0\u001b[39m]\n\u001b[1;32m     <a href='vscode-notebook-cell:/Users/tatiana/Documents/GitHub/GLS-Quantile-Regression/EMalgo.ipynb#W4sZmlsZQ%3D%3D?line=74'>75</a>\u001b[0m μ[i\u001b[39m+\u001b[39m\u001b[39m1\u001b[39m] \u001b[39m=\u001b[39m np\u001b[39m.\u001b[39msqrt(θ \u001b[39m*\u001b[39m\u001b[39m*\u001b[39m \u001b[39m2\u001b[39m \u001b[39m+\u001b[39m \u001b[39m2\u001b[39m \u001b[39m*\u001b[39m τ_2) \u001b[39m/\u001b[39m np\u001b[39m.\u001b[39mabs(y[i\u001b[39m+\u001b[39m\u001b[39m1\u001b[39m] \u001b[39m-\u001b[39m (x[i\u001b[39m+\u001b[39m\u001b[39m1\u001b[39m] \u001b[39m*\u001b[39m β[i \u001b[39m+\u001b[39m \u001b[39m1\u001b[39m]))\n",
      "\u001b[0;31mValueError\u001b[0m: matmul: Input operand 1 has a mismatch in its core dimension 0, with gufunc signature (n?,k),(k,m?)->(n?,m?) (size 1000 is different from 1)"
     ]
    }
   ],
   "source": [
    "''' EM Algorithm'''\n",
    "p = 0.4\n",
    "M = 1000\n",
    "n = M\n",
    "T = 1000\n",
    "df = df.astype('float64')  # convert data to float64 data type\n",
    "y = df['y'].values\n",
    "x = df['x'].values \n",
    "y_lag = np.roll(y, 1)\n",
    "y_lag[0] = 0\n",
    "y_lag = y_lag.reshape((-1, 1))\n",
    "#X = np.column_stack((np.ones_like(x), y_lag, x))\n",
    "\n",
    "τ_2 = 2 / p * (1 - p)\n",
    "τ = np.sqrt(τ_2)\n",
    "θ = (1 - 2 * p) / (p * (1 - p))\n",
    "\n",
    "# Initial values\n",
    "μ = np.empty(M)  # Empty array of length M\n",
    "μ[0] = 1  # Set initial value μ_0 = 1\n",
    "λ = np.empty(M)\n",
    "λ[0] = 1\n",
    "m = np.empty(M)\n",
    "m[0] = 1\n",
    "#Σ = np.zeros((3, 3))\n",
    "α = np.empty(M)\n",
    "α[0] = 1\n",
    "γ = np.empty(M)\n",
    "γ[0] = 1\n",
    "\n",
    "mode_z = np.empty(M)\n",
    "mode_σ = np.empty(M)\n",
    "σ = np.empty(M)\n",
    "β = np.zeros((M, 1))\n",
    "print(β.shape)\n",
    "z = np.zeros(M)\n",
    "l = np.ones((1000, 1))\n",
    "T = 1000  # Number of rows in your dataset\n",
    "\n",
    "Σ = np.zeros((T, T))\n",
    "X = np.zeros((T, 3))\n",
    "X[:, 0] = np.ones(T)\n",
    "X[:, 1] = y_lag[:, 0]\n",
    "X[:, 2] = x\n",
    "\n",
    "for i in range(M):\n",
    "    # E-step: estimate mode_z\n",
    "    mode_z[i] = μ[i] * ((1 + (9 * μ[i] ** 2) / (4 * λ[i] ** 2)) - (3 * μ[i]) / (4 * λ[i]))\n",
    "    \n",
    "    # Set mode_z = z_i and input in the parameters of the distribution of σ_i\n",
    "    z[i] = mode_z[i] \n",
    "    α[i+1] = α[i] * (3 * n / 2)\n",
    "    γ[i+1] = γ[i] + ((y[i+1] - x[i+1] * β[i]) ** 2) / (2 * z[i] * τ_2) + z[i]\n",
    "\n",
    "    # Estimate the mode mode_σ_{i+1}\n",
    "    mode_σ[i+1] = γ[i+1] / α[i+1] + 1\n",
    "\n",
    "    # Set mode_σ_{i+1} = σ_{i+1} and compute U_{i+1}\n",
    "    σ[i+1] = mode_σ[i+1]\n",
    "\n",
    "    j = (σ[i+1] * τ_2 * z[i]) ** -1\n",
    "    \n",
    "    U = np.zeros((T, T))\n",
    "    np.fill_diagonal(U, j)\n",
    "\n",
    "    Σ = np.linalg.inv(X.T @ U @ X)\n",
    "\n",
    "    r = θ / (σ[i+1] * τ_2)\n",
    "    r_matr = np.zeros((3, 1))\n",
    "    r_matr[0, 0] = r\n",
    "\n",
    "    m[i+1] = Σ @ (X.T @ U @ y.reshape((-1, 1))).flatten() - (X.T @ U @ (r_matr @ l))\n",
    "    β[i+1] = m[i+1, 0]\n",
    "\n",
    "    μ[i+1] = np.sqrt(θ ** 2 + 2 * τ_2) / np.abs(y[i+1] - (x[i+1] * β[i + 1]))\n",
    "    λ[i+1] = (θ ** 2 + 2 * τ_2) / (σ[i + 1] * τ_2)\n",
    "\n",
    "\n",
    "print(β)"
   ]
  }
 ],
 "metadata": {
  "kernelspec": {
   "display_name": "Python 3",
   "language": "python",
   "name": "python3"
  },
  "language_info": {
   "codemirror_mode": {
    "name": "ipython",
    "version": 3
   },
   "file_extension": ".py",
   "mimetype": "text/x-python",
   "name": "python",
   "nbconvert_exporter": "python",
   "pygments_lexer": "ipython3",
   "version": "3.10.4"
  },
  "orig_nbformat": 4
 },
 "nbformat": 4,
 "nbformat_minor": 2
}
